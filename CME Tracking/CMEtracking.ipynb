{
 "cells": [
  {
   "cell_type": "code",
   "execution_count": 1,
   "metadata": {},
   "outputs": [],
   "source": [
    "import numpy as np\n",
    "import matplotlib.pyplot as plt \n",
    "from datetime import datetime"
   ]
  },
  {
   "cell_type": "code",
   "execution_count": 2,
   "metadata": {},
   "outputs": [],
   "source": [
    "file = \"/Users/priyanujkashyap/Documents/GitHub/KWS24/CME Tracking/2012-12-14 LASCO C2.txt\"\n",
    "height = []\n",
    "time = []\n",
    "with open(file,'r') as file:\n",
    "    lines = file.readlines()[1:]\n",
    "for line in lines:\n",
    "    tim = (line.strip().split()[0])\n",
    "    hei = (line.strip().split()[1])\n",
    "    time.append(tim)\n",
    "    height.append(hei)\n",
    "#print(time)"
   ]
  },
  {
   "cell_type": "code",
   "execution_count": null,
   "metadata": {},
   "outputs": [],
   "source": [
    "t = []\n",
    "for tim in time:\n",
    "    ti = datetime.strptime(tim, '%Y-%m-%dT%H:%M:%S.%f')\n",
    "    ti_hr = ti.hour + (ti.minute / 60) + (ti.second / 3600)\n",
    "    t.append(ti_hr)\n",
    "#print((t))"
   ]
  },
  {
   "cell_type": "code",
   "execution_count": null,
   "metadata": {},
   "outputs": [],
   "source": [
    "year = datetime.strptime(time[0], '%Y-%m-%dT%H:%M:%S.%f').year\n",
    "mon = datetime.strptime(time[0], '%Y-%m-%dT%H:%M:%S.%f').strftime('%b')\n",
    "day = datetime.strptime(time[0], '%Y-%m-%dT%H:%M:%S.%f').day\n",
    "print(mon)"
   ]
  }
 ],
 "metadata": {
  "kernelspec": {
   "display_name": "base",
   "language": "python",
   "name": "python3"
  },
  "language_info": {
   "codemirror_mode": {
    "name": "ipython",
    "version": 3
   },
   "file_extension": ".py",
   "mimetype": "text/x-python",
   "name": "python",
   "nbconvert_exporter": "python",
   "pygments_lexer": "ipython3",
   "version": "3.11.6"
  }
 },
 "nbformat": 4,
 "nbformat_minor": 2
}
