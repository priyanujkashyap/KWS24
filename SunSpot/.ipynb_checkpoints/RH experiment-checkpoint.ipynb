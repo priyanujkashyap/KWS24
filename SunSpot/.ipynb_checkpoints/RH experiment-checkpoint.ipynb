{
 "cells": [
  {
   "cell_type": "code",
   "execution_count": 1,
   "id": "3c2d3767",
   "metadata": {},
   "outputs": [],
   "source": [
    "%matplotlib qt5\n",
    "import os\n",
    "import sys\n",
    "sys.path.insert(1, 'rh-uitenbroek/python/')\n",
    "import numpy as np\n",
    "import xdrlib\n",
    "from specutils.utils.wcs_utils import air_to_vac\n",
    "from pathlib import Path\n",
    "import matplotlib.pyplot as plt\n",
    "import rhanalyze\n",
    "from astropy import units"
   ]
  },
  {
   "cell_type": "code",
   "execution_count": 60,
   "id": "d304544c",
   "metadata": {},
   "outputs": [],
   "source": [
    "## Compile RH code\n",
    "## cd rh-uitenbroek\n",
    "## make\n",
    "## cd rhf1d\n",
    "## make"
   ]
  },
  {
   "cell_type": "code",
   "execution_count": 36,
   "id": "d328f074",
   "metadata": {},
   "outputs": [],
   "source": [
    "def make_wave_file(outfile, start=None, end=None, step=None, new_wave=None,\n",
    "                   ewave=None, air=True):\n",
    "    \"\"\"\n",
    "    Writes RH wave file (in xdr format). All wavelengths should be in nm.\n",
    "    Parameters\n",
    "    ----------\n",
    "    start: number\n",
    "        Starting wavelength.\n",
    "    end: number\n",
    "        Ending wavelength (non-inclusive)\n",
    "    step: number\n",
    "        Wavelength separation\n",
    "    new_wave: 1D array\n",
    "        Alternatively to start/end, one can specify an array of\n",
    "        wavelengths here.\n",
    "    outfile: string\n",
    "        Name of file to write.\n",
    "    ewave: 1-D array, optional\n",
    "        Array of existing wavelengths. Program will make discard points\n",
    "        to make sure no step is enforced using these points too.\n",
    "    air: boolean, optional\n",
    "        If true, will at the end convert the wavelengths into vacuum\n",
    "        wavelengths.\n",
    "    \"\"\"\n",
    "    if new_wave is None:\n",
    "        new_wave = np.arange(start, end, step)\n",
    "        if None in [start, end, step]:\n",
    "            raise ValueError('Must specify either new_wave, or start, end, '\n",
    "                             'step. Stopping.')\n",
    "    if step is None:\n",
    "        step = np.median(np.diff(new_wave))\n",
    "    if ewave is not None:  # ensure step is kept at most times\n",
    "        keepers = []\n",
    "        for w in new_wave:\n",
    "            if np.min(np.abs(w - ewave)) > step * 0.375:\n",
    "                keepers.append(w)\n",
    "        new_wave = np.array(keepers)\n",
    "    if air:\n",
    "        # RH uses Edlen (1966) to convert from vacuum to air\n",
    "        new_wave = air_to_vac(new_wave * units.nm, method='edlen1966',\n",
    "                              scheme='iteration').value\n",
    "\n",
    "    # write file\n",
    "    p = xdrlib.Packer()\n",
    "    nw = len(new_wave)\n",
    "    p.pack_int(nw)\n",
    "    p.pack_farray(nw, new_wave.astype('d'), p.pack_double)\n",
    "    f = open(outfile, 'wb')\n",
    "    f.write(p.get_buffer())\n",
    "    f.close()\n",
    "    print((\"Wrote %i wavelengths to file.\" % nw))"
   ]
  },
  {
   "cell_type": "code",
   "execution_count": 37,
   "id": "77a0a3ee",
   "metadata": {},
   "outputs": [],
   "source": [
    "def watmos_multi(filename, temp, ne, z=None, logtau=None, vz=None, vturb=None,\n",
    "                 cmass=None, nh=None, id='Model', scale='height', logg=4.44,\n",
    "                 write_dscale=False, spherical=False):\n",
    "    \"\"\"\n",
    "    Writes file with atmosphere in MULTI format.\n",
    "    Parameters\n",
    "    ----------\n",
    "    filename : str\n",
    "        Name of file to write.\n",
    "    temp : 1D array\n",
    "        Temperature in K.\n",
    "    ne : 1D array\n",
    "        Electron density per cm^-3\n",
    "    z : 1D array, optional\n",
    "        Height scale in km\n",
    "    logtau : 1D array, optional\n",
    "        Log of optical depth at 500 nm scale\n",
    "    vz : 1D array, optional\n",
    "        Line of sight velocity in km/s. Positive is upflow.\n",
    "    vturb : 1D array, optional\n",
    "        Turbulent velocity in km/s.\n",
    "    cmass : 1D array, optional\n",
    "        Column mass scale in g cm^-2\n",
    "    nh : 2D array, optional\n",
    "        Hydrogen populations per cm^-3. Shape must be (6, nheight),\n",
    "        so always 6 levels.\n",
    "    id : str, optional\n",
    "        Model ID string\n",
    "    scale : str, optional\n",
    "        Type of scale to use. Options are:\n",
    "            'height' - HEIGHT scale (default)\n",
    "            'tau'    - TAU(5000) scale\n",
    "            'mass'   - column mass scale\n",
    "        Must supply z, logtau, or cmass accordingly.\n",
    "    logg : float, optional\n",
    "        Log of gravity. Default is solar (4.44)\n",
    "    write_dscale : bool, optional\n",
    "        If True, will write DSCALE file.\n",
    "        Height scale in km\n",
    "    spherical : bool, optional\n",
    "        If True, will write model in spherical geometry\n",
    "    Returns\n",
    "    -------\n",
    "    None. Writes file to disk.\n",
    "    \"\"\"\n",
    "    if scale.lower() == 'height':\n",
    "        if z is None:\n",
    "            raise ValueError('watmos_multi: height scale selected '\n",
    "                             'but z not given!')\n",
    "        scl = z\n",
    "        desc = 'HEIGHT (KM)'\n",
    "    elif scale.lower() == 'tau':\n",
    "        if logtau is None:\n",
    "            raise ValueError('watmos_multi: tau scale selected but '\n",
    "                             'tau not given!')\n",
    "        scl = logtau\n",
    "        desc = 'LG TAU(5000)'\n",
    "    elif scale.lower() == 'mass':\n",
    "        if cmass is None:\n",
    "            raise ValueError('watmos_multi: mass scale selected but '\n",
    "                             'column mass not given!')\n",
    "        scl = cmass\n",
    "        desc = 'LOG COLUMN MASS'\n",
    "    else:\n",
    "        raise ValueError('watmos_multi: invalid scale: {0}'.format(scale))\n",
    "    f = open(filename, 'w')\n",
    "    ndep = len(temp)\n",
    "    # write 'header'\n",
    "    f.write(' {0}\\n*\\n'.format(id))\n",
    "    f.write(' {0} scale\\n'.format(scale).upper())\n",
    "    f.write('* LG G\\n')\n",
    "    f.write('{0:6.2f}\\n'.format(logg))\n",
    "    if spherical:\n",
    "        f.write('* Nradius   Ncore    Ninter\\n')\n",
    "        f.write('{0:5d}        8         0\\n'.format(ndep))\n",
    "    else:\n",
    "        f.write('* NDEP\\n')\n",
    "        f.write('{0:5d}\\n'.format(ndep))\n",
    "    f.write('*  {0}     TEMPERATURE        NE             V            '\n",
    "            'VTURB\\n'.format(desc))\n",
    "    if vz is None:\n",
    "        vz = np.zeros(ndep, dtype='f')\n",
    "    if vturb is None:\n",
    "        vturb = np.zeros(ndep, dtype='f')\n",
    "    elif type(vturb) == type(5):   # constant vturb\n",
    "        vturb = np.zeros(ndep, dtype='f') + vturb\n",
    "    # write atmosphere\n",
    "    for i in range(ndep):\n",
    "        # astype hack to get over numpy bug\n",
    "        f.write('{0:15.6E}{1:15.6E}{2:15.6E}{3:15.6E}{4:15.6E}'\n",
    "                '\\n'.format(scl[i].astype('d'), temp[i].astype('d'),\n",
    "                            ne[i].astype('d'), vz[i].astype('d'),\n",
    "                            vturb[i].astype('d')))\n",
    "    # if nh given\n",
    "    if nh is not None:\n",
    "        if nh.shape != (6, ndep):\n",
    "            raise ValueError('watmos_multi: nh has incorrect shape. Must be '\n",
    "                             '6 H levels!')\n",
    "        f.write('*\\n* Hydrogen populations\\n')\n",
    "        f.write('*    nh(1)       nh(2)       nh(3)       nh(4)       nh(5)   '\n",
    "                'np\\n')\n",
    "        for i in range(ndep):\n",
    "            ss = ''\n",
    "            for j in range(nh.shape[0]):\n",
    "                ss += '{0:12.4E}'.format(nh[j, i].astype('d'))\n",
    "            f.write(ss + '\\n')\n",
    "    f.close()\n",
    "    print('--- Wrote multi atmosphere to ' + filename)\n",
    "    if write_dscale:\n",
    "        f = open(filename + '.dscale', 'w')\n",
    "        f.write(' {0}\\n*\\n'.format(id))\n",
    "        f.write(' {0} scale\\n'.format(scale).upper())\n",
    "        # setting the second element to zero will force it to be calculated\n",
    "        # in DPCONV. Will it work for height scale?\n",
    "        f.write('{0:5d}    {1:.5f}\\n'.format(ndep, 0.))\n",
    "        for i in range(ndep):\n",
    "            f.write('{0:15.6E}\\n'.format(scl[i].astype('d')))\n",
    "        f.close()\n",
    "        print(('--- Wrote dscale to ' + filename + '.dscale'))"
   ]
  },
  {
   "cell_type": "code",
   "execution_count": 38,
   "id": "fc7335e0",
   "metadata": {},
   "outputs": [],
   "source": [
    "def create_mag_file(\n",
    "    Bx, By, Bz,\n",
    "    write_path,\n",
    "    height_len\n",
    "):\n",
    "    b_filename = 'MAG_FIELD.B'\n",
    "    xdr = xdrlib.Packer()\n",
    "\n",
    "    Babs = np.sqrt(\n",
    "        np.add(\n",
    "            np.square(Bx),\n",
    "            np.add(\n",
    "                np.square(By),\n",
    "                np.square(Bz)\n",
    "            )\n",
    "        )\n",
    "    )\n",
    "\n",
    "    Binc = np.arccos(np.divide(Bz, Babs))\n",
    "\n",
    "    Bazi = np.arctan2(By, Bx)\n",
    "\n",
    "    shape = (height_len,)\n",
    "\n",
    "    xdr.pack_farray(\n",
    "        np.prod(shape),\n",
    "        Babs.flatten(),\n",
    "        xdr.pack_double\n",
    "    )\n",
    "    xdr.pack_farray(\n",
    "        np.prod(shape),\n",
    "        Binc,\n",
    "        xdr.pack_double\n",
    "    )\n",
    "    xdr.pack_farray(\n",
    "        np.prod(shape),\n",
    "        Bazi,\n",
    "        xdr.pack_double\n",
    "    )\n",
    "\n",
    "    with open(write_path / b_filename, 'wb') as f:\n",
    "        f.write(xdr.get_buffer())"
   ]
  },
  {
   "cell_type": "code",
   "execution_count": 44,
   "id": "9be4b0ef",
   "metadata": {},
   "outputs": [],
   "source": [
    "falc = {\n",
    "    'temp': np.array([100000.,  95600.,  90820.,  83890.,  75930.,  71340.,  66150.,\n",
    "        60170.,  53280.,  49390.,  45420.,  41180.,  36590.,  32150.,\n",
    "        27970.,  24060.,  20420.,  17930.,  16280.,  14520.,  13080.,\n",
    "        12190.,  11440.,  10850.,  10340.,   9983.,   9735.,   9587.,\n",
    "         9458.,   9358.,   9228.,   8988.,   8635.,   8273.,   7970.,\n",
    "         7780.,   7600.,   7410.,   7220.,   7080.,   6910.,   6740.,\n",
    "         6570.,   6370.,   6180.,   5950.,   5760.,   5570.,   5380.,\n",
    "         5160.,   4900.,   4680.,   4560.,   4520.,   4500.,   4510.,\n",
    "         4540.,   4610.,   4690.,   4780.,   4880.,   4990.,   5060.,\n",
    "         5150.,   5270.,   5410.,   5580.,   5790.,   5980.,   6180.,\n",
    "         6340.,   6520.,   6720.,   6980.,   7280.,   7590.,   7900.,\n",
    "         8220.,   8540.,   8860.,   9140.,   9400.]),\n",
    "    'ne': np.array([1.251891e+10, 1.304293e+10, 1.366348e+10, 1.467464e+10,\n",
    "       1.603707e+10, 1.694766e+10, 1.811689e+10, 1.969550e+10,\n",
    "       2.192829e+10, 2.344633e+10, 2.523785e+10, 2.748732e+10,\n",
    "       3.043595e+10, 3.394113e+10, 3.804151e+10, 4.291177e+10,\n",
    "       4.860836e+10, 5.337548e+10, 5.700496e+10, 6.137226e+10,\n",
    "       6.520094e+10, 6.747161e+10, 6.918466e+10, 6.991762e+10,\n",
    "       6.967801e+10, 6.848673e+10, 6.599262e+10, 6.265075e+10,\n",
    "       5.801540e+10, 5.841143e+10, 6.141942e+10, 6.651616e+10,\n",
    "       7.168647e+10, 7.561758e+10, 7.846423e+10, 8.095357e+10,\n",
    "       8.445100e+10, 8.838377e+10, 9.185673e+10, 9.612962e+10,\n",
    "       1.031897e+11, 1.137706e+11, 1.220873e+11, 1.280117e+11,\n",
    "       1.340907e+11, 1.308237e+11, 1.229867e+11, 1.111659e+11,\n",
    "       9.742137e+10, 8.363294e+10, 7.544027e+10, 9.114873e+10,\n",
    "       1.307890e+11, 1.818187e+11, 2.441017e+11, 3.294358e+11,\n",
    "       4.648930e+11, 7.167248e+11, 1.099721e+12, 1.680047e+12,\n",
    "       2.557346e+12, 3.880555e+12, 4.803401e+12, 5.984860e+12,\n",
    "       7.584832e+12, 9.816085e+12, 1.329338e+13, 1.950519e+13,\n",
    "       2.749041e+13, 4.028244e+13, 5.456858e+13, 7.641340e+13,\n",
    "       1.099800e+14, 1.719226e+14, 2.789487e+14, 4.446967e+14,\n",
    "       6.869667e+14, 1.041290e+15, 1.531806e+15, 2.194603e+15,\n",
    "       2.952398e+15, 3.831726e+15]),\n",
    "    'z': np.array([ 2.1577834e+03,  2.1565500e+03,  2.1553071e+03,  2.1536606e+03,\n",
    "        2.1520151e+03,  2.1511741e+03,  2.1503276e+03,  2.1494685e+03,\n",
    "        2.1486309e+03,  2.1482268e+03,  2.1478523e+03,  2.1474885e+03,\n",
    "        2.1471353e+03,  2.1468010e+03,  2.1464885e+03,  2.1461958e+03,\n",
    "        2.1458735e+03,  2.1456216e+03,  2.1454192e+03,  2.1451567e+03,\n",
    "        2.1448643e+03,  2.1446111e+03,  2.1443284e+03,  2.1439841e+03,\n",
    "        2.1434993e+03,  2.1428823e+03,  2.1419922e+03,  2.1408701e+03,\n",
    "        2.1389900e+03,  2.1315779e+03,  2.1174231e+03,  2.0851001e+03,\n",
    "        2.0367181e+03,  1.9823762e+03,  1.9260653e+03,  1.8769016e+03,\n",
    "        1.8145767e+03,  1.7344408e+03,  1.6414415e+03,  1.5561520e+03,\n",
    "        1.4535889e+03,  1.3493253e+03,  1.2566880e+03,  1.1602736e+03,\n",
    "        1.0689320e+03,  9.7814478e+02,  9.0967389e+02,  8.5059985e+02,\n",
    "        8.0108759e+02,  7.5170392e+02,  7.0248773e+02,  6.4875623e+02,\n",
    "        5.9962231e+02,  5.5988654e+02,  5.2496857e+02,  4.9003012e+02,\n",
    "        4.5023621e+02,  4.0088678e+02,  3.5148038e+02,  3.0201215e+02,\n",
    "        2.5247437e+02,  2.0286143e+02,  1.7767108e+02,  1.5246886e+02,\n",
    "        1.2725649e+02,  1.0203552e+02,  7.6806221e+01,  5.1567101e+01,\n",
    "        3.6398197e+01,  2.1229790e+01,  1.1114420e+01,  9.9941450e-01,\n",
    "       -9.1153688e+00, -1.9230396e+01, -2.9345213e+01, -3.9459755e+01,\n",
    "       -4.9573875e+01, -5.9687794e+01, -6.9801674e+01, -7.9915436e+01,\n",
    "       -9.0029282e+01, -1.0014345e+02]),\n",
    "    'nH': np.array([[1.35750000e+05, 1.81200000e+05, 2.21800000e+05, 3.00330000e+05,\n",
    "        4.62420000e+05, 6.93660000e+05, 1.38489988e+06, 4.21580000e+06,\n",
    "        1.74380000e+07, 4.15070000e+07, 9.04200000e+07, 1.91920000e+08,\n",
    "        3.95729984e+08, 7.67820032e+08, 1.37809997e+09, 2.27699994e+09,\n",
    "        3.72249984e+09, 5.22139955e+09, 6.66260019e+09, 8.83040051e+09,\n",
    "        1.15530004e+10, 1.40979999e+10, 1.71140004e+10, 2.08380006e+10,\n",
    "        2.58909983e+10, 3.14020004e+10, 3.82319985e+10, 4.55600005e+10,\n",
    "        5.51020012e+10, 5.79639992e+10, 5.91819981e+10, 6.53440000e+10,\n",
    "        8.21509980e+10, 1.10360003e+11, 1.50010003e+11, 1.92949993e+11,\n",
    "        2.62299992e+11, 3.89680005e+11, 6.20999999e+11, 9.53130025e+11,\n",
    "        1.63579992e+12, 2.93440009e+12, 5.12400032e+12, 9.65349999e+12,\n",
    "        1.84379989e+13, 3.65049906e+13, 6.14569639e+13, 9.79478784e+13,\n",
    "        1.47969643e+14, 2.29128721e+14, 3.65724518e+14, 6.20924227e+14,\n",
    "        1.00580974e+15, 1.47188650e+15, 2.05246340e+15, 2.84348310e+15,\n",
    "        4.10292186e+15, 6.41285164e+15, 9.92695791e+15, 1.52036903e+16,\n",
    "        2.30013581e+16, 3.43289220e+16, 4.16587389e+16, 5.00858084e+16,\n",
    "        5.96425100e+16, 7.03435027e+16, 8.20795910e+16, 9.44361346e+16,\n",
    "        1.01354494e+17, 1.08302918e+17, 1.12549687e+17, 1.16516553e+17,\n",
    "        1.20153127e+17, 1.22630757e+17, 1.24327466e+17, 1.25542495e+17,\n",
    "        1.26726085e+17, 1.27378895e+17, 1.27671021e+17, 1.27852655e+17,\n",
    "        1.28359882e+17, 1.28869867e+17],\n",
    "       [6.85369968e-02, 8.97779986e-02, 1.08489998e-01, 1.43680006e-01,\n",
    "        2.13389993e-01, 3.10030013e-01, 5.91610014e-01, 1.70819998e+00,\n",
    "        6.75470018e+00, 1.59099998e+01, 3.50309982e+01, 7.75559998e+01,\n",
    "        1.73669998e+02, 3.80729980e+02, 7.81559998e+02, 1.45050000e+03,\n",
    "        2.63939990e+03, 3.90590015e+03, 5.11860010e+03, 6.95320020e+03,\n",
    "        9.22809961e+03, 1.14030000e+04, 1.40200000e+04, 1.73110000e+04,\n",
    "        2.18760000e+04, 2.69170000e+04, 3.32320000e+04, 3.98800000e+04,\n",
    "        4.84580000e+04, 5.42600000e+04, 6.17150000e+04, 7.43900000e+04,\n",
    "        8.97230000e+04, 1.04290000e+05, 1.16529992e+05, 1.26410000e+05,\n",
    "        1.38860000e+05, 1.52180000e+05, 1.63520000e+05, 1.77020000e+05,\n",
    "        2.01030000e+05, 2.39680000e+05, 2.72290000e+05, 2.96879969e+05,\n",
    "        3.22589969e+05, 3.05679938e+05, 2.67069844e+05, 2.11429750e+05,\n",
    "        1.51069641e+05, 9.19424844e+04, 4.49533242e+04, 2.55029414e+04,\n",
    "        2.15140703e+04, 2.50533672e+04, 3.10963848e+04, 4.57748477e+04,\n",
    "        7.86667422e+04, 1.82697453e+05, 4.37975781e+05, 1.07772750e+06,\n",
    "        2.70643575e+06, 6.89005600e+06, 1.16047200e+07, 2.09879400e+07,\n",
    "        4.21591720e+07, 8.88773440e+07, 2.01897136e+08, 5.01202688e+08,\n",
    "        1.02973446e+09, 2.08759962e+09, 3.51752755e+09, 6.09652685e+09,\n",
    "        1.07906888e+10, 2.12239380e+10, 4.32761569e+10, 8.48861594e+10,\n",
    "        1.57992665e+11, 2.84545188e+11, 4.89175613e+11, 8.08053572e+11,\n",
    "        1.22149890e+12, 1.75449807e+12],\n",
    "       [4.15429994e-02, 5.22960015e-02, 6.18450008e-02, 7.91020021e-02,\n",
    "        1.10660002e-01, 1.50539994e-01, 2.57319987e-01, 6.38419986e-01,\n",
    "        2.09879994e+00, 4.33939981e+00, 8.06389999e+00, 1.40380001e+01,\n",
    "        2.23330002e+01, 3.20880013e+01, 4.07709999e+01, 4.59059982e+01,\n",
    "        4.95400009e+01, 5.08120003e+01, 5.23950005e+01, 5.59430008e+01,\n",
    "        6.46370010e+01, 7.39110031e+01, 8.59430008e+01, 1.01610001e+02,\n",
    "        1.22970001e+02, 1.46940002e+02, 1.76320007e+02, 2.07190002e+02,\n",
    "        2.47570007e+02, 2.82629974e+02, 3.35329987e+02, 4.42260010e+02,\n",
    "        6.02459961e+02, 7.92080017e+02, 9.92659973e+02, 1.17899988e+03,\n",
    "        1.43729993e+03, 1.77270007e+03, 2.13930005e+03, 2.53509985e+03,\n",
    "        3.17039990e+03, 4.13589990e+03, 5.04979980e+03, 5.88200000e+03,\n",
    "        6.73489941e+03, 6.64839844e+03, 5.93639697e+03, 4.76189453e+03,\n",
    "        3.42749194e+03, 2.09518823e+03, 1.02678455e+03, 5.83165771e+02,\n",
    "        4.92255829e+02, 5.73416809e+02, 7.11938538e+02, 1.04839880e+03,\n",
    "        1.80310657e+03, 4.19787354e+03, 1.01324248e+04, 2.54014336e+04,\n",
    "        6.68092344e+04, 1.86452328e+05, 3.35347312e+05, 6.58282625e+05,\n",
    "        1.46027425e+06, 3.45204600e+06, 8.92027900e+06, 2.56546620e+07,\n",
    "        5.92417080e+07, 1.35348656e+08, 2.49328544e+08, 4.75372736e+08,\n",
    "        9.30324480e+08, 2.06570739e+09, 4.79453082e+09, 1.06385172e+10,\n",
    "        2.21795656e+10, 4.45011190e+10, 8.45440614e+10, 1.53221186e+11,\n",
    "        2.49859768e+11, 3.83489606e+11],\n",
    "       [5.20830005e-02, 6.43569976e-02, 7.57860020e-02, 9.64709967e-02,\n",
    "        1.33359998e-01, 1.76840007e-01, 2.86460012e-01, 6.57159984e-01,\n",
    "        2.01209998e+00, 4.01550007e+00, 7.20760012e+00, 1.20159998e+01,\n",
    "        1.79850006e+01, 2.36949997e+01, 2.69669991e+01, 2.68110008e+01,\n",
    "        2.54309998e+01, 2.60419998e+01, 2.72019997e+01, 2.96340008e+01,\n",
    "        3.49230003e+01, 4.03619995e+01, 4.58540001e+01, 5.23680000e+01,\n",
    "        6.00530014e+01, 6.86660004e+01, 7.78010025e+01, 8.66500015e+01,\n",
    "        9.77360001e+01, 1.08400002e+02, 1.24639999e+02, 1.54919998e+02,\n",
    "        1.95679993e+02, 2.39600006e+02, 2.82779999e+02, 3.22059998e+02,\n",
    "        3.76509979e+02, 4.46480011e+02, 5.23320007e+02, 6.11110046e+02,\n",
    "        7.59450012e+02, 9.95419983e+02, 1.23179993e+03, 1.46589990e+03,\n",
    "        1.72479993e+03, 1.75529956e+03, 1.60129907e+03, 1.30509851e+03,\n",
    "        9.49327759e+02, 5.84676758e+02, 2.87845703e+02, 1.64043182e+02,\n",
    "        1.38867538e+02, 1.62206482e+02, 2.01997040e+02, 2.98674164e+02,\n",
    "        5.17281067e+02, 1.22248071e+03, 3.03163257e+03, 7.95356055e+03,\n",
    "        2.23440039e+04, 6.74112969e+04, 1.26114805e+05, 2.57600141e+05,\n",
    "        5.96315188e+05, 1.47339762e+06, 3.99178675e+06, 1.20994080e+07,\n",
    "        2.91431620e+07, 6.94633840e+07, 1.32070960e+08, 2.60422896e+08,\n",
    "        5.27987968e+08, 1.22340826e+09, 2.97126170e+09, 6.88324045e+09,\n",
    "        1.49323612e+10, 3.11152886e+10, 6.12156948e+10, 1.14603418e+11,\n",
    "        1.91899828e+11, 3.01459669e+11],\n",
    "       [7.05880001e-02, 8.63249972e-02, 1.01570003e-01, 1.29319996e-01,\n",
    "        1.78189993e-01, 2.33009994e-01, 3.64659995e-01, 7.90780008e-01,\n",
    "        2.29889989e+00, 4.48099995e+00, 7.89109993e+00, 1.28920002e+01,\n",
    "        1.88160000e+01, 2.40009995e+01, 2.62509995e+01, 2.50119991e+01,\n",
    "        2.34629993e+01, 2.41410007e+01, 2.61870003e+01, 2.97439995e+01,\n",
    "        3.74510002e+01, 4.49879990e+01, 5.14519997e+01, 5.84410019e+01,\n",
    "        6.51320038e+01, 7.25910034e+01, 7.85979996e+01, 8.34150009e+01,\n",
    "        8.89889984e+01, 9.72200012e+01, 1.11029999e+02, 1.36550003e+02,\n",
    "        1.70009995e+02, 2.04779999e+02, 2.37570007e+02, 2.66570007e+02,\n",
    "        3.05989990e+02, 3.54889984e+02, 4.06320007e+02, 4.65209991e+02,\n",
    "        5.65390015e+02, 7.25219971e+02, 8.81649963e+02, 1.03250000e+03,\n",
    "        1.19969983e+03, 1.21019971e+03, 1.09979944e+03, 8.94948975e+02,\n",
    "        6.50788391e+02, 4.01077759e+02, 1.97807037e+02, 1.13095306e+02,\n",
    "        9.61203766e+01, 1.12663658e+02, 1.40750061e+02, 2.08740021e+02,\n",
    "        3.62840454e+02, 8.62483154e+02, 2.15600098e+03, 5.72576416e+03,\n",
    "        1.63718828e+04, 5.05699609e+04, 9.60128438e+04, 1.99452344e+05,\n",
    "        4.70833531e+05, 1.18790812e+06, 3.29085650e+06, 1.02238950e+07,\n",
    "        2.51167660e+07, 6.10598120e+07, 1.17817328e+08, 2.35972016e+08,\n",
    "        4.86310752e+08, 1.14922586e+09, 2.85058355e+09, 6.73666048e+09,\n",
    "        1.48853658e+10, 3.15642470e+10, 6.31135642e+10, 1.19943111e+11,\n",
    "        2.03329815e+11, 3.22849669e+11],\n",
    "       [1.04569999e+10, 1.09400003e+10, 1.15179991e+10, 1.24719995e+10,\n",
    "        1.37820006e+10, 1.46660004e+10, 1.58060001e+10, 1.73479997e+10,\n",
    "        1.95070013e+10, 2.09549988e+10, 2.26510008e+10, 2.47609999e+10,\n",
    "        2.74909983e+10, 3.07200000e+10, 3.44979988e+10, 3.89720023e+10,\n",
    "        4.42990019e+10, 4.89299968e+10, 5.25340017e+10, 5.69319997e+10,\n",
    "        6.09100022e+10, 6.34070016e+10, 6.53640008e+10, 6.63719977e+10,\n",
    "        6.63030006e+10, 6.51459994e+10, 6.25330012e+10, 5.90109983e+10,\n",
    "        5.40169994e+10, 5.43439995e+10, 5.74850007e+10, 6.28289987e+10,\n",
    "        6.83339981e+10, 7.27049994e+10, 7.60649974e+10, 7.89769994e+10,\n",
    "        8.28489974e+10, 8.70149980e+10, 9.05709978e+10, 9.47550044e+10,\n",
    "        1.01579997e+11, 1.11720006e+11, 1.19510000e+11, 1.24639994e+11,\n",
    "        1.29279984e+11, 1.23199971e+11, 1.11409938e+11, 9.39658854e+10,\n",
    "        7.31848294e+10, 4.89087263e+10, 2.45586309e+10, 1.07065559e+10,\n",
    "        5.98406298e+09, 4.90068941e+09, 4.46644992e+09, 4.87350016e+09,\n",
    "        6.01958502e+09, 9.50888346e+09, 1.60345948e+10, 2.91364086e+10,\n",
    "        5.76862126e+10, 1.24664455e+11, 1.98715458e+11, 3.47828126e+11,\n",
    "        6.90074485e+11, 1.44442917e+12, 3.21013337e+12, 7.49116116e+12,\n",
    "        1.41918271e+13, 2.56025035e+13, 3.88876154e+13, 5.96307639e+13,\n",
    "        9.19617845e+13, 1.52423641e+14, 2.57613313e+14, 4.21201269e+14,\n",
    "        6.60967415e+14, 1.01241170e+15, 1.49979453e+15, 2.15917603e+15,\n",
    "        2.91369749e+15, 3.78969607e+15]]),\n",
    "    'cmass': np.array([-4.93574095E+00,-4.93562460E+00,-4.93550158E+00,-4.93532753E+00,-4.93513727E+00,-4.93503189E+00,-4.93491840E+00,-4.93479300E+00,-4.93465710E+00,-4.93458509E+00,-4.93451309E+00,-4.93443680E+00,-4.93435478E+00,-4.93426752E+00,-4.93417501E+00,-4.93407583E+00,-4.93394947E+00,-4.93383646E+00,-4.93373585E+00,-4.93359184E+00,-4.93341446E+00,-4.93324804E+00,-4.93304968E+00,-4.93279409E+00,-4.93241310E+00,-4.93190384E+00,-4.93113708E+00,-4.93013287E+00,-4.92838764E+00,-4.92132998E+00,-4.90772057E+00,-4.87617874E+00,-4.82721663E+00,-4.76904154E+00,-4.70482588E+00,-4.64561558E+00,-4.56636095E+00,-4.45723915E+00,-4.31962919E+00,-4.18329859E+00,-4.00349617E+00,-3.80158830E+00,-3.60500216E+00,-3.37798548E+00,-3.14050150E+00,-2.88156867E+00,-2.67674541E+00,-2.49282169E+00,-2.33261061E+00,-2.16479850E+00,-1.98761845E+00,-1.78171456E+00,-1.58602309E+00,-1.42560005E+00,-1.28381574E+00,-1.14168072E+00,-9.79987085E-01,-7.80323803E-01,-5.83481908E-01,-3.89997512E-01,-2.00394467E-01,-1.52082862E-02, 7.59830400E-02, 1.65459096E-01, 2.52803594E-01, 3.37693125E-01, 4.19847399E-01, 4.98901486E-01, 5.44588983E-01, 5.88704407E-01, 6.17215991E-01, 6.44935131E-01, 6.71832442E-01, 6.97803915E-01, 7.22732782E-01, 7.46601224E-01, 7.69470692E-01, 7.91397929E-01, 8.12412739E-01, 8.32580209E-01, 8.52005064E-01, 8.70782733E-01]),\n",
    "    'vz': np.zeros(82),\n",
    "    'vturb': np.zeros(82),\n",
    "    'id': 'FALC',\n",
    "    'scale': 'mass'\n",
    "}"
   ]
  },
  {
   "cell_type": "code",
   "execution_count": 16,
   "id": "d853e96f",
   "metadata": {},
   "outputs": [
    {
     "data": {
      "text/plain": [
       "[<matplotlib.lines.Line2D at 0x1247c8220>]"
      ]
     },
     "execution_count": 16,
     "metadata": {},
     "output_type": "execute_result"
    },
    {
     "data": {
      "image/png": "[encoded data removed]",
      "text/plain": [
       "<Figure size 432x288 with 1 Axes>"
      ]
     },
     "metadata": {
      "needs_background": "light"
     },
     "output_type": "display_data"
    }
   ],
   "source": [
    "plt.plot(falc['z'], falc['temp'])"
   ]
  },
  {
   "cell_type": "code",
   "execution_count": 17,
   "id": "5bc34c78",
   "metadata": {},
   "outputs": [
    {
     "data": {
      "text/plain": [
       "(3000.0, 15000.0)"
      ]
     },
     "execution_count": 17,
     "metadata": {},
     "output_type": "execute_result"
    },
    {
     "data": {
      "image/png": "[encoded data removed]",
      "text/plain": [
       "<Figure size 432x288 with 1 Axes>"
      ]
     },
     "metadata": {
      "needs_background": "light"
     },
     "output_type": "display_data"
    }
   ],
   "source": [
    "plt.plot(falc['z'], falc['temp'])\n",
    "plt.ylim(3000, 15000)"
   ]
  },
  {
   "cell_type": "code",
   "execution_count": 18,
   "id": "0526d511",
   "metadata": {},
   "outputs": [
    {
     "data": {
      "text/plain": [
       "[<matplotlib.lines.Line2D at 0x1248fd610>]"
      ]
     },
     "execution_count": 18,
     "metadata": {},
     "output_type": "execute_result"
    },
    {
     "data": {
      "image/png": "[encoded data removed]",
      "text/plain": [
       "<Figure size 432x288 with 1 Axes>"
      ]
     },
     "metadata": {
      "needs_background": "light"
     },
     "output_type": "display_data"
    }
   ],
   "source": [
    "plt.plot(falc['z'], falc['ne'])"
   ]
  },
  {
   "cell_type": "code",
   "execution_count": 19,
   "id": "ee095834",
   "metadata": {},
   "outputs": [
    {
     "data": {
      "text/plain": [
       "(0.0, 200000000000000.0)"
      ]
     },
     "execution_count": 19,
     "metadata": {},
     "output_type": "execute_result"
    },
    {
     "data": {
      "image/png": "[encoded data removed]",
      "text/plain": [
       "<Figure size 432x288 with 1 Axes>"
      ]
     },
     "metadata": {
      "needs_background": "light"
     },
     "output_type": "display_data"
    }
   ],
   "source": [
    "plt.plot(falc['z'], falc['ne'])\n",
    "plt.ylim(0.0, 0.2e15)"
   ]
  },
  {
   "cell_type": "code",
   "execution_count": 2,
   "id": "af6fa745",
   "metadata": {},
   "outputs": [],
   "source": [
    "write_path = Path('rh_runs')"
   ]
  },
  {
   "cell_type": "code",
   "execution_count": 3,
   "id": "74b09371",
   "metadata": {},
   "outputs": [],
   "source": [
    "run_1 = write_path / 'run_1'"
   ]
  },
  {
   "cell_type": "code",
   "execution_count": 14,
   "id": "75f16536",
   "metadata": {},
   "outputs": [
    {
     "name": "stdout",
     "output_type": "stream",
     "text": [
      "--- Wrote multi atmosphere to rh_runs/run_1/FALC.atmos\n"
     ]
    }
   ],
   "source": [
    "watmos_multi(\n",
    "        str(run_1 / 'FALC.atmos'),\n",
    "        falc['temp'],\n",
    "        falc['ne'],\n",
    "        cmass=falc['cmass'],\n",
    "        vz=falc['vz'],\n",
    "        vturb=falc['vturb'],\n",
    "        nh=falc['nH'],\n",
    "        id=falc['id'],\n",
    "        scale=falc['scale']\n",
    "    )"
   ]
  },
  {
   "cell_type": "code",
   "execution_count": 61,
   "id": "22b8117e",
   "metadata": {},
   "outputs": [],
   "source": [
    "## cd rh_runs\n",
    "## cd run_1\n",
    "## ../../rh-uitenbroek/rhf1d/rhf1d\n",
    "## ../../rh-uitenbroek/rhf1d/solveray"
   ]
  },
  {
   "cell_type": "code",
   "execution_count": 64,
   "id": "353f6490",
   "metadata": {},
   "outputs": [],
   "source": [
    "cwd = os.getcwd()\n",
    "os.chdir(run_1)\n",
    "out = rhanalyze.rhout()\n",
    "os.chdir(cwd)"
   ]
  },
  {
   "cell_type": "code",
   "execution_count": 54,
   "id": "43b1bab8",
   "metadata": {},
   "outputs": [
    {
     "data": {
      "text/plain": [
       "<rhanalyze.rhout at 0x124b87730>"
      ]
     },
     "execution_count": 54,
     "metadata": {},
     "output_type": "execute_result"
    }
   ],
   "source": [
    "out"
   ]
  },
  {
   "cell_type": "code",
   "execution_count": 55,
   "id": "417801b1",
   "metadata": {},
   "outputs": [],
   "source": [
    "indd = np.where((out.spectrum.waves >= 8536/10) & (out.spectrum.waves<= 8548/10))[0]"
   ]
  },
  {
   "cell_type": "code",
   "execution_count": 56,
   "id": "6ad1363a",
   "metadata": {},
   "outputs": [
    {
     "data": {
      "text/plain": [
       "[<matplotlib.lines.Line2D at 0x124bf00a0>]"
      ]
     },
     "execution_count": 56,
     "metadata": {},
     "output_type": "execute_result"
    },
    {
     "data": {
      "image/png": "[encoded data removed]",
      "text/plain": [
       "<Figure size 432x288 with 1 Axes>"
      ]
     },
     "metadata": {
      "needs_background": "light"
     },
     "output_type": "display_data"
    }
   ],
   "source": [
    "plt.plot(out.spectrum.waves[indd] * 10, out.rays[0].I[indd])"
   ]
  },
  {
   "cell_type": "code",
   "execution_count": 57,
   "id": "b6e6011e",
   "metadata": {},
   "outputs": [],
   "source": [
    "cwd = os.getcwd()\n",
    "os.chdir(run_1)\n",
    "!rm -rf *.dat\n",
    "!rm -rf *.out\n",
    "!rm -rf spectrum*\n",
    "!rm -rf background.ray\n",
    "os.chdir(cwd)"
   ]
  },
  {
   "cell_type": "code",
   "execution_count": 59,
   "id": "78fc4b94",
   "metadata": {},
   "outputs": [],
   "source": [
    "Bz = np.ones(82) * 500 * 1e-4\n",
    "Bx = np.zeros(82)\n",
    "By = np.zeros(82)\n",
    "create_mag_file(Bx, By, Bz, run_1, 82)"
   ]
  },
  {
   "cell_type": "code",
   "execution_count": 63,
   "id": "372b9eef",
   "metadata": {},
   "outputs": [],
   "source": [
    "## vim keyword.input\n",
    "## STOKES_MODE = FIELD_FREE\n",
    "## ../../rh-uitenbroek/rhf1d/rhf1d\n",
    "## ../../rh-uitenbroek/rhf1d/solveray"
   ]
  },
  {
   "cell_type": "code",
   "execution_count": 65,
   "id": "1e6f9da0",
   "metadata": {},
   "outputs": [],
   "source": [
    "cwd = os.getcwd()\n",
    "os.chdir(run_1)\n",
    "out = rhanalyze.rhout()\n",
    "os.chdir(cwd)"
   ]
  },
  {
   "cell_type": "code",
   "execution_count": 67,
   "id": "0cfdb946",
   "metadata": {},
   "outputs": [
    {
     "data": {
      "text/plain": [
       "[<matplotlib.lines.Line2D at 0x1248c4460>]"
      ]
     },
     "execution_count": 67,
     "metadata": {},
     "output_type": "execute_result"
    },
    {
     "data": {
      "image/png": "[encoded data removed]",
      "text/plain": [
       "<Figure size 432x288 with 4 Axes>"
      ]
     },
     "metadata": {
      "needs_background": "light"
     },
     "output_type": "display_data"
    }
   ],
   "source": [
    "fig, axs = plt.subplots(2, 2)\n",
    "axs[0][0].plot(out.spectrum.waves[indd] * 10, out.rays[0].I[indd])\n",
    "axs[0][1].plot(out.spectrum.waves[indd] * 10, out.rays[0].Q[indd] / out.rays[0].I[indd])\n",
    "axs[1][0].plot(out.spectrum.waves[indd] * 10, out.rays[0].U[indd] / out.rays[0].I[indd])\n",
    "axs[1][1].plot(out.spectrum.waves[indd] * 10, out.rays[0].V[indd] / out.rays[0].I[indd])"
   ]
  },
  {
   "cell_type": "code",
   "execution_count": 82,
   "id": "1922cbe0",
   "metadata": {},
   "outputs": [],
   "source": [
    "cwd = os.getcwd()\n",
    "os.chdir(run_1)\n",
    "!rm -rf *.dat\n",
    "!rm -rf *.out\n",
    "!rm -rf spectrum*\n",
    "!rm -rf background.ray\n",
    "!rm -rf MAG_FIELD.B\n",
    "os.chdir(cwd)"
   ]
  },
  {
   "cell_type": "code",
   "execution_count": 83,
   "id": "623d1008",
   "metadata": {},
   "outputs": [],
   "source": [
    "Bz = np.ones(82) * 500 * 1e-4\n",
    "Bx = np.ones(82) * 300 * 1e-4\n",
    "By = np.ones(82) * 300 * 1e-4\n",
    "create_mag_file(Bx, By, Bz, run_1, 82)"
   ]
  },
  {
   "cell_type": "code",
   "execution_count": 84,
   "id": "2eab0e9e",
   "metadata": {},
   "outputs": [],
   "source": [
    "## ../../rh-uitenbroek/rhf1d/rhf1d\n",
    "## ../../rh-uitenbroek/rhf1d/solveray"
   ]
  },
  {
   "cell_type": "code",
   "execution_count": 85,
   "id": "dfd14bf5",
   "metadata": {},
   "outputs": [],
   "source": [
    "cwd = os.getcwd()\n",
    "os.chdir(run_1)\n",
    "out = rhanalyze.rhout()\n",
    "os.chdir(cwd)"
   ]
  },
  {
   "cell_type": "code",
   "execution_count": 86,
   "id": "85a3df55",
   "metadata": {},
   "outputs": [
    {
     "data": {
      "text/plain": [
       "[<matplotlib.lines.Line2D at 0x12530be20>]"
      ]
     },
     "execution_count": 86,
     "metadata": {},
     "output_type": "execute_result"
    },
    {
     "data": {
      "image/png": "[encoded data removed]",
      "text/plain": [
       "<Figure size 432x288 with 4 Axes>"
      ]
     },
     "metadata": {
      "needs_background": "light"
     },
     "output_type": "display_data"
    }
   ],
   "source": [
    "fig, axs = plt.subplots(2, 2)\n",
    "axs[0][0].plot(out.spectrum.waves[indd] * 10, out.rays[0].I[indd])\n",
    "axs[0][1].plot(out.spectrum.waves[indd] * 10, out.rays[0].Q[indd] / out.rays[0].I[indd])\n",
    "axs[1][0].plot(out.spectrum.waves[indd] * 10, out.rays[0].U[indd] / out.rays[0].I[indd])\n",
    "axs[1][1].plot(out.spectrum.waves[indd] * 10, out.rays[0].V[indd] / out.rays[0].I[indd])"
   ]
  },
  {
   "cell_type": "code",
   "execution_count": 114,
   "id": "edf93c76",
   "metadata": {},
   "outputs": [
    {
     "name": "stdout",
     "output_type": "stream",
     "text": [
      "zsh:1: no matches found: *.dat\n",
      "zsh:1: no matches found: *.out\n",
      "zsh:1: no matches found: spectrum*\n"
     ]
    }
   ],
   "source": [
    "cwd = os.getcwd()\n",
    "os.chdir(run_1)\n",
    "!rm -rf *.dat\n",
    "!rm -rf *.out\n",
    "!rm -rf spectrum*\n",
    "!rm -rf background.ray\n",
    "os.chdir(cwd)"
   ]
  },
  {
   "cell_type": "code",
   "execution_count": 113,
   "id": "202d9c48",
   "metadata": {},
   "outputs": [
    {
     "name": "stdout",
     "output_type": "stream",
     "text": [
      "Wrote 100 wavelengths to file.\n"
     ]
    }
   ],
   "source": [
    "make_wave_file(run_1 / 'Fe_6301_6302.wave', start=630.1, end=630.3, step=(630.3-630.1)/100)"
   ]
  },
  {
   "cell_type": "code",
   "execution_count": 96,
   "id": "a3918658",
   "metadata": {},
   "outputs": [],
   "source": [
    "## vim kurucz.input\n",
    "## ../../Atoms/kurucz_6301_6302.input\n",
    "## WAVETABLE = Fe_6301_6302.wave"
   ]
  },
  {
   "cell_type": "code",
   "execution_count": 89,
   "id": "608a21bc",
   "metadata": {},
   "outputs": [],
   "source": [
    "## ../../rh-uitenbroek/rhf1d/rhf1d\n",
    "## ../../rh-uitenbroek/rhf1d/solveray"
   ]
  },
  {
   "cell_type": "code",
   "execution_count": 115,
   "id": "968dde70",
   "metadata": {},
   "outputs": [],
   "source": [
    "cwd = os.getcwd()\n",
    "os.chdir(run_1)\n",
    "out = rhanalyze.rhout()\n",
    "os.chdir(cwd)"
   ]
  },
  {
   "cell_type": "code",
   "execution_count": 6,
   "id": "d6c6f68a",
   "metadata": {},
   "outputs": [],
   "source": [
    "indd = np.where((out.spectrum.waves >= 8536/10) & (out.spectrum.waves<= 8548/10))[0]\n",
    "indd2 = np.where((out.spectrum.waves >= 6301/10) & (out.spectrum.waves<= 6303/10))[0]"
   ]
  },
  {
   "cell_type": "code",
   "execution_count": 118,
   "id": "9ebb97aa",
   "metadata": {},
   "outputs": [
    {
     "data": {
      "text/plain": [
       "[<matplotlib.lines.Line2D at 0x12592aac0>]"
      ]
     },
     "execution_count": 118,
     "metadata": {},
     "output_type": "execute_result"
    },
    {
     "data": {
      "image/png": "[encoded data removed]",
      "text/plain": [
       "<Figure size 432x288 with 4 Axes>"
      ]
     },
     "metadata": {
      "needs_background": "light"
     },
     "output_type": "display_data"
    }
   ],
   "source": [
    "fig, axs = plt.subplots(2, 2)\n",
    "axs[0][0].plot(out.spectrum.waves[indd2] * 10, out.rays[0].I[indd2])\n",
    "axs[0][1].plot(out.spectrum.waves[indd2] * 10, out.rays[0].Q[indd2] / out.rays[0].I[indd2])\n",
    "axs[1][0].plot(out.spectrum.waves[indd2] * 10, out.rays[0].U[indd2] / out.rays[0].I[indd2])\n",
    "axs[1][1].plot(out.spectrum.waves[indd2] * 10, out.rays[0].V[indd2] / out.rays[0].I[indd2])"
   ]
  },
  {
   "cell_type": "code",
   "execution_count": 141,
   "id": "873f9764",
   "metadata": {},
   "outputs": [],
   "source": [
    "ind_lt_500 = np.where(falc['z'] < 500)[0]\n",
    "ind_gt_500 = np.where(falc['z'] >= 500)[0]"
   ]
  },
  {
   "cell_type": "code",
   "execution_count": 142,
   "id": "95ee6dac",
   "metadata": {},
   "outputs": [],
   "source": [
    "Bz = np.zeros(82)\n",
    "Bz[ind_lt_500] = 500 * 1e-4\n",
    "Bz[ind_gt_500] = -500 * 1e-4\n",
    "Bx = np.zeros(82)\n",
    "By = np.zeros(82)\n",
    "create_mag_file(Bx, By, Bz, run_1, 82)"
   ]
  },
  {
   "cell_type": "code",
   "execution_count": 143,
   "id": "cdcdd4b7",
   "metadata": {},
   "outputs": [],
   "source": [
    "cwd = os.getcwd()\n",
    "os.chdir(run_1)\n",
    "!rm -rf *.dat\n",
    "!rm -rf *.out\n",
    "!rm -rf spectrum*\n",
    "!rm -rf background.ray\n",
    "os.chdir(cwd)"
   ]
  },
  {
   "cell_type": "code",
   "execution_count": 123,
   "id": "9f6cb17a",
   "metadata": {},
   "outputs": [],
   "source": [
    "## ../../rh-uitenbroek/rhf1d/rhf1d\n",
    "## ../../rh-uitenbroek/rhf1d/solveray"
   ]
  },
  {
   "cell_type": "code",
   "execution_count": 4,
   "id": "0dbcd795",
   "metadata": {},
   "outputs": [],
   "source": [
    "cwd = os.getcwd()\n",
    "os.chdir(run_1)\n",
    "out = rhanalyze.rhout()\n",
    "os.chdir(cwd)"
   ]
  },
  {
   "cell_type": "code",
   "execution_count": 7,
   "id": "a63084a2",
   "metadata": {},
   "outputs": [
    {
     "data": {
      "text/plain": [
       "[<matplotlib.lines.Line2D at 0x13f3ca0d0>]"
      ]
     },
     "execution_count": 7,
     "metadata": {},
     "output_type": "execute_result"
    }
   ],
   "source": [
    "fig, axs = plt.subplots(2, 2)\n",
    "axs[0][0].plot(out.spectrum.waves[indd2] * 10, out.rays[0].I[indd2])\n",
    "axs[0][1].plot(out.spectrum.waves[indd2] * 10, out.rays[0].Q[indd2] / out.rays[0].I[indd2])\n",
    "axs[1][0].plot(out.spectrum.waves[indd2] * 10, out.rays[0].U[indd2] / out.rays[0].I[indd2])\n",
    "axs[1][1].plot(out.spectrum.waves[indd2] * 10, out.rays[0].V[indd2] / out.rays[0].I[indd2])"
   ]
  },
  {
   "cell_type": "code",
   "execution_count": 8,
   "id": "a111203d",
   "metadata": {},
   "outputs": [
    {
     "data": {
      "text/plain": [
       "[<matplotlib.lines.Line2D at 0x12ad30130>]"
      ]
     },
     "execution_count": 8,
     "metadata": {},
     "output_type": "execute_result"
    }
   ],
   "source": [
    "fig, axs = plt.subplots(2, 2)\n",
    "axs[0][0].plot(out.spectrum.waves[indd] * 10, out.rays[0].I[indd])\n",
    "axs[0][1].plot(out.spectrum.waves[indd] * 10, out.rays[0].Q[indd] / out.rays[0].I[indd])\n",
    "axs[1][0].plot(out.spectrum.waves[indd] * 10, out.rays[0].U[indd] / out.rays[0].I[indd])\n",
    "axs[1][1].plot(out.spectrum.waves[indd] * 10, out.rays[0].V[indd] / out.rays[0].I[indd])"
   ]
  },
  {
   "cell_type": "code",
   "execution_count": 10,
   "id": "7a1935e0",
   "metadata": {},
   "outputs": [],
   "source": [
    "rayno  = out.geometry.Nrays-1"
   ]
  },
  {
   "cell_type": "code",
   "execution_count": 11,
   "id": "6bf71365",
   "metadata": {},
   "outputs": [
    {
     "data": {
      "text/plain": [
       "4"
      ]
     },
     "execution_count": 11,
     "metadata": {},
     "output_type": "execute_result"
    }
   ],
   "source": [
    "rayno"
   ]
  },
  {
   "cell_type": "code",
   "execution_count": 16,
   "id": "f9ba8181",
   "metadata": {},
   "outputs": [
    {
     "data": {
      "text/plain": [
       "205"
      ]
     },
     "execution_count": 16,
     "metadata": {},
     "output_type": "execute_result"
    }
   ],
   "source": [
    "lcore_8542 = np.argmin(np.abs(out.spectrum.waves - 8542.09/10))\n",
    "lcore_6302_5 = np.argmin(np.abs(out.spectrum.waves - 6302.5/10))"
   ]
  },
  {
   "cell_type": "code",
   "execution_count": 25,
   "id": "5ba8772c",
   "metadata": {},
   "outputs": [],
   "source": [
    "cwd = os.getcwd()\n",
    "os.chdir(run_1)\n",
    "out.opacity.read(lcore_8542, rayno)\n",
    "out.opacity.Source()\n",
    "out.opacity.Planck()\n",
    "plt.plot(out.geometry.height / 1e3, out.opacity.S, label='S_8542')\n",
    "plt.plot(out.geometry.height / 1e3, out.opacity.Bp, '.', label='Bp')\n",
    "plt.legend()\n",
    "plt.yscale('log')\n",
    "os.chdir(cwd)"
   ]
  },
  {
   "cell_type": "code",
   "execution_count": 19,
   "id": "8041a215",
   "metadata": {},
   "outputs": [
    {
     "data": {
      "text/plain": [
       "array([3.92219960e-06, 3.92324830e-06, 3.92435234e-06, 3.92590448e-06,\n",
       "       3.92758545e-06, 3.92850859e-06, 3.92949552e-06, 3.93057660e-06,\n",
       "       3.93173688e-06, 3.93234717e-06, 3.93295417e-06, 3.93359360e-06,\n",
       "       3.93427625e-06, 3.93499577e-06, 3.93574873e-06, 3.93654256e-06,\n",
       "       3.93753118e-06, 3.93839256e-06, 3.93914113e-06, 3.94018432e-06,\n",
       "       3.94142816e-06, 3.94255766e-06, 3.94386009e-06, 3.94547418e-06,\n",
       "       3.94776459e-06, 3.95065617e-06, 3.95473112e-06, 3.95967069e-06,\n",
       "       3.96748310e-06, 3.99739124e-06, 4.05646136e-06, 4.20154155e-06,\n",
       "       4.43896971e-06, 4.72768887e-06, 5.04614778e-06, 5.33870977e-06,\n",
       "       5.73062238e-06, 6.26975556e-06, 6.94145261e-06, 7.60518189e-06,\n",
       "       8.48971551e-06, 9.53723224e-06, 1.06449458e-05, 1.20436908e-05,\n",
       "       1.37620691e-05, 1.61580749e-05, 1.87280047e-05, 2.18414132e-05,\n",
       "       2.54561100e-05, 3.05622150e-05, 3.84611226e-05, 5.55019556e-05,\n",
       "       9.14289483e-05, 1.52865962e-04, 2.55672536e-04, 4.44029089e-04,\n",
       "       8.53780664e-04, 1.94959049e-03, 4.39868138e-03, 9.78084405e-03,\n",
       "       2.13967986e-02, 4.59923752e-02, 6.65969004e-02, 9.59474039e-02,\n",
       "       1.37317109e-01, 1.95527367e-01, 2.78629096e-01, 4.02112061e-01,\n",
       "       5.08622659e-01, 6.58874663e-01, 7.95516154e-01, 9.77962113e-01,\n",
       "       1.22721335e+00, 1.58280748e+00, 2.11176185e+00, 2.90317657e+00,\n",
       "       4.07119740e+00, 5.77615847e+00, 8.23630340e+00, 1.17469259e+01,\n",
       "       1.66094668e+01, 2.31250732e+01])"
      ]
     },
     "execution_count": 19,
     "metadata": {},
     "output_type": "execute_result"
    }
   ],
   "source": [
    "out.geometry.tau500"
   ]
  },
  {
   "cell_type": "code",
   "execution_count": 33,
   "id": "09338f0b",
   "metadata": {},
   "outputs": [],
   "source": [
    "vz = np.interp(falc['z'], [-500, 0, 500, 1000, 1500, 1800, 2157], [0, 4, 3, 0, -5, 10, 16])"
   ]
  },
  {
   "cell_type": "code",
   "execution_count": 34,
   "id": "03866b68",
   "metadata": {},
   "outputs": [
    {
     "data": {
      "text/plain": [
       "[<matplotlib.lines.Line2D at 0x1416bf2e0>]"
      ]
     },
     "execution_count": 34,
     "metadata": {},
     "output_type": "execute_result"
    }
   ],
   "source": [
    "plt.plot(falc['z'], vz)"
   ]
  },
  {
   "cell_type": "code",
   "execution_count": 46,
   "id": "b446b3a6",
   "metadata": {},
   "outputs": [
    {
     "name": "stdout",
     "output_type": "stream",
     "text": [
      "--- Wrote multi atmosphere to FALC.atmos\n"
     ]
    }
   ],
   "source": [
    "watmos_multi(\n",
    "        str('FALC.atmos'),\n",
    "        falc['temp'],\n",
    "        falc['ne'],\n",
    "        cmass=falc['cmass'],\n",
    "        vz=vz,\n",
    "        vturb=falc['vturb'],\n",
    "        nh=falc['nH'],\n",
    "        id=falc['id'],\n",
    "        scale=falc['scale']\n",
    "    )"
   ]
  },
  {
   "cell_type": "code",
   "execution_count": 47,
   "id": "4d37660c",
   "metadata": {},
   "outputs": [],
   "source": [
    "cwd = os.getcwd()\n",
    "os.chdir(run_1)\n",
    "!rm -rf *.dat\n",
    "!rm -rf *.out\n",
    "!rm -rf spectrum*\n",
    "!rm -rf background.ray\n",
    "os.chdir(cwd)"
   ]
  },
  {
   "cell_type": "code",
   "execution_count": null,
   "id": "ccae573f",
   "metadata": {},
   "outputs": [],
   "source": [
    "## ../../rh-uitenbroek/rhf1d/rhf1d\n",
    "## ../../rh-uitenbroek/rhf1d/solveray"
   ]
  },
  {
   "cell_type": "code",
   "execution_count": 48,
   "id": "c67c7be3",
   "metadata": {},
   "outputs": [],
   "source": [
    "cwd = os.getcwd()\n",
    "os.chdir(run_1)\n",
    "out = rhanalyze.rhout()\n",
    "os.chdir(cwd)"
   ]
  },
  {
   "cell_type": "code",
   "execution_count": 49,
   "id": "cb66abf2",
   "metadata": {},
   "outputs": [
    {
     "data": {
      "text/plain": [
       "[<matplotlib.lines.Line2D at 0x143400610>]"
      ]
     },
     "execution_count": 49,
     "metadata": {},
     "output_type": "execute_result"
    }
   ],
   "source": [
    "fig, axs = plt.subplots(2, 2)\n",
    "axs[0][0].plot(out.spectrum.waves[indd] * 10, out.rays[0].I[indd])\n",
    "axs[0][1].plot(out.spectrum.waves[indd] * 10, out.rays[0].Q[indd] / out.rays[0].I[indd])\n",
    "axs[1][0].plot(out.spectrum.waves[indd] * 10, out.rays[0].U[indd] / out.rays[0].I[indd])\n",
    "axs[1][1].plot(out.spectrum.waves[indd] * 10, out.rays[0].V[indd] / out.rays[0].I[indd])"
   ]
  },
  {
   "cell_type": "code",
   "execution_count": 50,
   "id": "cba02e02",
   "metadata": {},
   "outputs": [
    {
     "data": {
      "text/plain": [
       "[<matplotlib.lines.Line2D at 0x145a999a0>]"
      ]
     },
     "execution_count": 50,
     "metadata": {},
     "output_type": "execute_result"
    }
   ],
   "source": [
    "fig, axs = plt.subplots(2, 2)\n",
    "axs[0][0].plot(out.spectrum.waves[indd2] * 10, out.rays[0].I[indd2])\n",
    "axs[0][1].plot(out.spectrum.waves[indd2] * 10, out.rays[0].Q[indd2] / out.rays[0].I[indd2])\n",
    "axs[1][0].plot(out.spectrum.waves[indd2] * 10, out.rays[0].U[indd2] / out.rays[0].I[indd2])\n",
    "axs[1][1].plot(out.spectrum.waves[indd2] * 10, out.rays[0].V[indd2] / out.rays[0].I[indd2])"
   ]
  },
  {
   "cell_type": "code",
   "execution_count": null,
   "id": "a6309e6a",
   "metadata": {},
   "outputs": [],
   "source": []
  }
 ],
 "metadata": {
  "kernelspec": {
   "display_name": "Python 3",
   "language": "python",
   "name": "python3"
  },
  "language_info": {
   "codemirror_mode": {
    "name": "ipython",
    "version": 3
   },
   "file_extension": ".py",
   "mimetype": "text/x-python",
   "name": "python",
   "nbconvert_exporter": "python",
   "pygments_lexer": "ipython3",
   "version": "3.8.2"
  }
 },
 "nbformat": 4,
 "nbformat_minor": 5
}
