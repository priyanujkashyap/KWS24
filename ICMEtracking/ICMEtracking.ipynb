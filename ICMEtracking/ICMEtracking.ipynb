{
 "cells": [
  {
   "cell_type": "code",
   "execution_count": 22,
   "metadata": {},
   "outputs": [],
   "source": [
    "import numpy as np\n",
    "import matplotlib.pyplot as plt \n",
    "from datetime import datetime"
   ]
  },
  {
   "cell_type": "code",
   "execution_count": 23,
   "metadata": {},
   "outputs": [],
   "source": [
    "file = \"/Users/priyanujkashyap/Documents/GitHub/KWS24/CME Tracking/2012-12-14 LASCO C2.txt\"\n",
    "height = []\n",
    "time = []\n",
    "with open(file,'r') as file:\n",
    "    lines = file.readlines()[1:]\n",
    "for line in lines:\n",
    "    tim = (line.strip().split()[0])\n",
    "    hei = (line.strip().split()[1])\n",
    "    time.append(tim)\n",
    "    height.append(hei)\n",
    "#print(time)"
   ]
  },
  {
   "cell_type": "code",
   "execution_count": 24,
   "metadata": {},
   "outputs": [],
   "source": [
    "t = []\n",
    "for tim in time:\n",
    "    ti = datetime.strptime(tim, '%Y-%m-%dT%H:%M:%S.%f')\n",
    "    ti_hr = ti.hour + (ti.minute / 60) + (ti.second / 3600)\n",
    "    t.append(ti_hr)\n",
    "#print((t))"
   ]
  },
  {
   "cell_type": "code",
   "execution_count": 25,
   "metadata": {},
   "outputs": [
    {
     "name": "stdout",
     "output_type": "stream",
     "text": [
      "Dec\n"
     ]
    }
   ],
   "source": [
    "year = datetime.strptime(time[0], '%Y-%m-%dT%H:%M:%S.%f').year\n",
    "mon = datetime.strptime(time[0], '%Y-%m-%dT%H:%M:%S.%f').strftime('%b')\n",
    "day = datetime.strptime(time[0], '%Y-%m-%dT%H:%M:%S.%f').day\n",
    "print(mon)"
   ]
  },
  {
   "cell_type": "code",
   "execution_count": 26,
   "metadata": {},
   "outputs": [],
   "source": [
    "hei = []\n",
    "for h in height:\n",
    "    hei.append(float(h))\n",
    "# print(hei)"
   ]
  },
  {
   "cell_type": "code",
   "execution_count": 27,
   "metadata": {},
   "outputs": [],
   "source": [
    "h_qua = np.polyfit(t, hei, 2)\n",
    "# quadratic function of height\n",
    "qua_fun = np.poly1d(h_qua)\n",
    "# fitted quadratic height\n",
    "hei_qua = qua_fun(t)\n",
    "#print(hei_qua)\n",
    "\n",
    "# finding derivative of fitted function to get speed\n",
    "vel_fun_qua = qua_fun.deriv()\n",
    "# making speed function in km/s\n",
    "vel_kms_qua = vel_fun_qua*7 * 10**5/(3600)\n",
    "#print(vel_kms_qua)\n",
    "\n",
    "# finding all values of speed at each data points\n",
    "vel_qua = vel_kms_qua(t)\n",
    "#print(vel_qua)\n",
    "\n",
    "# for finding acceleration, taking derivative of speed function\n",
    "acc_fun_qua = vel_fun_qua.deriv()\n",
    "# making acc function in m/s^2\n",
    "acc_ms2_qua = acc_fun_qua*7 * 10**5 / (1000*(3600)**2)\n",
    "\n",
    "vel_fun_qua = qua_fun.deriv()\n",
    "#making speed function in km/s\n",
    "vel_kms_qua = vel_fun_qua * 7 * 10**5/(3600)\n",
    "#print(vel_kms_qua)\n",
    "#finding all values of speed at each data points\n",
    "vel_qua = vel_kms_qua(t)\n",
    "#print(vel_qua)\n",
    "\n",
    "#for finding acceleration, taking derivative of speed function\n",
    "acc_fun_qua = vel_fun_qua.deriv()\n",
    "#making acc function in m/s^2\n",
    "acc_ms2_qua = acc_fun_qua*(7 * 10**5) * 1000/((3600)**2)\n",
    "#print(acc_ms2_qua)\n",
    "#finding all values of acceleration at each data points\n",
    "acc_qua = acc_ms2_qua(t)\n",
    "#print(acc_qua)"
   ]
  },
  {
   "cell_type": "code",
   "execution_count": 28,
   "metadata": {},
   "outputs": [],
   "source": [
    "h_cub = np.polyfit(t, hei,3)\n",
    "# cubic function of height\n",
    "cub_fun = np.poly1d(h_cub)\n",
    "# fitted cubic height\n",
    "hei_cub = cub_fun(t)\n",
    "#print(hei_cub)\n",
    "\n",
    "#finding derivative of fitted function to get speed\n",
    "vel_fun_cub = cub_fun.deriv()\n",
    "#making acc function in m/s^2\n",
    "vel_kms_cub = vel_fun_cub* 10**5/(3600)\n",
    "#print(vel_kms_cub)\n",
    "#finding all values of speed at each data points\n",
    "vel_cub = vel_kms_cub(t)\n",
    "#print(vel_cub)\n",
    "\n",
    "# for finding acceleration, taking derivative of speed function\n",
    "acc_fun_cub = vel_fun_cub.deriv()"
   ]
  },
  {
   "cell_type": "code",
   "execution_count": null,
   "metadata": {},
   "outputs": [],
   "source": []
  }
 ],
 "metadata": {
  "kernelspec": {
   "display_name": "base",
   "language": "python",
   "name": "python3"
  },
  "language_info": {
   "codemirror_mode": {
    "name": "ipython",
    "version": 3
   },
   "file_extension": ".py",
   "mimetype": "text/x-python",
   "name": "python",
   "nbconvert_exporter": "python",
   "pygments_lexer": "ipython3",
   "version": "3.11.6"
  }
 },
 "nbformat": 4,
 "nbformat_minor": 2
}
