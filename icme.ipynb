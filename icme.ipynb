{
 "cells": [
  {
   "cell_type": "code",
   "execution_count": 1,
   "id": "0ea1c62d",
   "metadata": {},
   "outputs": [],
   "source": [
    "import pandas as pd\n",
    "import matplotlib.pyplot as plt"
   ]
  },
  {
   "cell_type": "code",
   "execution_count": 18,
   "id": "5f172cb7",
   "metadata": {},
   "outputs": [],
   "source": [
    "df = pd.read_fwf(r\"C:\\Users\\Utkarsh Sharma\\Downloads\\KWSReadings.txt\")"
   ]
  },
  {
   "cell_type": "code",
   "execution_count": 21,
   "id": "57fab21d",
   "metadata": {},
   "outputs": [
    {
     "data": {
      "text/plain": [
       "Index(['#Date      Time', 'H(Rs)', 'PA(deg)', 'Xpix', 'Ypix', 'X\"', 'Y\"'], dtype='object')"
      ]
     },
     "execution_count": 21,
     "metadata": {},
     "output_type": "execute_result"
    }
   ],
   "source": [
    "df.columns"
   ]
  },
  {
   "cell_type": "code",
   "execution_count": 22,
   "id": "ff8472ce",
   "metadata": {},
   "outputs": [],
   "source": [
    "df.rename(columns = {'#Date      Time':'datetime'}, inplace = True) "
   ]
  },
  {
   "cell_type": "code",
   "execution_count": 25,
   "id": "0ee20fb0",
   "metadata": {},
   "outputs": [],
   "source": [
    "date_time = pd.to_datetime(df['datetime'], format ='%Y-%m-%dT%H:%M:%S.%f')"
   ]
  },
  {
   "cell_type": "code",
   "execution_count": 27,
   "id": "e4c06a93",
   "metadata": {},
   "outputs": [],
   "source": [
    "df.index = date_time"
   ]
  },
  {
   "cell_type": "code",
   "execution_count": 28,
   "id": "c53a3740",
   "metadata": {},
   "outputs": [
    {
     "data": {
      "text/html": [
       "<div>\n",
       "<style scoped>\n",
       "    .dataframe tbody tr th:only-of-type {\n",
       "        vertical-align: middle;\n",
       "    }\n",
       "\n",
       "    .dataframe tbody tr th {\n",
       "        vertical-align: top;\n",
       "    }\n",
       "\n",
       "    .dataframe thead th {\n",
       "        text-align: right;\n",
       "    }\n",
       "</style>\n",
       "<table border=\"1\" class=\"dataframe\">\n",
       "  <thead>\n",
       "    <tr style=\"text-align: right;\">\n",
       "      <th></th>\n",
       "      <th>datetime</th>\n",
       "      <th>H(Rs)</th>\n",
       "      <th>PA(deg)</th>\n",
       "      <th>Xpix</th>\n",
       "      <th>Ypix</th>\n",
       "      <th>X\"</th>\n",
       "      <th>Y\"</th>\n",
       "    </tr>\n",
       "    <tr>\n",
       "      <th>datetime</th>\n",
       "      <th></th>\n",
       "      <th></th>\n",
       "      <th></th>\n",
       "      <th></th>\n",
       "      <th></th>\n",
       "      <th></th>\n",
       "      <th></th>\n",
       "    </tr>\n",
       "  </thead>\n",
       "  <tbody>\n",
       "    <tr>\n",
       "      <th>2012-12-14 02:24:06.881</th>\n",
       "      <td>2012-12-14T02:24:06.881</td>\n",
       "      <td>3.33</td>\n",
       "      <td>254.36</td>\n",
       "      <td>388</td>\n",
       "      <td>230</td>\n",
       "      <td>3163.02</td>\n",
       "      <td>-885.36</td>\n",
       "    </tr>\n",
       "    <tr>\n",
       "      <th>2012-12-14 02:48:03.965</th>\n",
       "      <td>2012-12-14T02:48:03.965</td>\n",
       "      <td>4.10</td>\n",
       "      <td>256.63</td>\n",
       "      <td>420</td>\n",
       "      <td>228</td>\n",
       "      <td>3924.62</td>\n",
       "      <td>-932.96</td>\n",
       "    </tr>\n",
       "    <tr>\n",
       "      <th>2012-12-14 04:12:53.108</th>\n",
       "      <td>2012-12-14T04:12:53.108</td>\n",
       "      <td>9.29</td>\n",
       "      <td>248.30</td>\n",
       "      <td>331</td>\n",
       "      <td>237</td>\n",
       "      <td>8500.80</td>\n",
       "      <td>-3382.40</td>\n",
       "    </tr>\n",
       "    <tr>\n",
       "      <th>2012-12-14 09:17:15.702</th>\n",
       "      <td>2012-12-14T09:17:15.702</td>\n",
       "      <td>24.77</td>\n",
       "      <td>262.30</td>\n",
       "      <td>471</td>\n",
       "      <td>238</td>\n",
       "      <td>24180.80</td>\n",
       "      <td>-3270.40</td>\n",
       "    </tr>\n",
       "  </tbody>\n",
       "</table>\n",
       "</div>"
      ],
      "text/plain": [
       "                                        datetime  H(Rs)  PA(deg)  Xpix  Ypix  \\\n",
       "datetime                                                                       \n",
       "2012-12-14 02:24:06.881  2012-12-14T02:24:06.881   3.33   254.36   388   230   \n",
       "2012-12-14 02:48:03.965  2012-12-14T02:48:03.965   4.10   256.63   420   228   \n",
       "2012-12-14 04:12:53.108  2012-12-14T04:12:53.108   9.29   248.30   331   237   \n",
       "2012-12-14 09:17:15.702  2012-12-14T09:17:15.702  24.77   262.30   471   238   \n",
       "\n",
       "                               X\"       Y\"  \n",
       "datetime                                    \n",
       "2012-12-14 02:24:06.881   3163.02  -885.36  \n",
       "2012-12-14 02:48:03.965   3924.62  -932.96  \n",
       "2012-12-14 04:12:53.108   8500.80 -3382.40  \n",
       "2012-12-14 09:17:15.702  24180.80 -3270.40  "
      ]
     },
     "execution_count": 28,
     "metadata": {},
     "output_type": "execute_result"
    }
   ],
   "source": [
    "df"
   ]
  },
  {
   "cell_type": "code",
   "execution_count": 29,
   "id": "908f0797",
   "metadata": {},
   "outputs": [
    {
     "data": {
      "text/plain": [
       "datetime\n",
       "2012-12-14 02:24:06.881    2012-12-14T02:24:06.881\n",
       "2012-12-14 02:48:03.965    2012-12-14T02:48:03.965\n",
       "2012-12-14 04:12:53.108    2012-12-14T04:12:53.108\n",
       "2012-12-14 09:17:15.702    2012-12-14T09:17:15.702\n",
       "Name: datetime, dtype: object"
      ]
     },
     "execution_count": 29,
     "metadata": {},
     "output_type": "execute_result"
    }
   ],
   "source": [
    "df.pop('datetime')"
   ]
  },
  {
   "cell_type": "code",
   "execution_count": 30,
   "id": "a899d74b",
   "metadata": {},
   "outputs": [
    {
     "data": {
      "text/html": [
       "<div>\n",
       "<style scoped>\n",
       "    .dataframe tbody tr th:only-of-type {\n",
       "        vertical-align: middle;\n",
       "    }\n",
       "\n",
       "    .dataframe tbody tr th {\n",
       "        vertical-align: top;\n",
       "    }\n",
       "\n",
       "    .dataframe thead th {\n",
       "        text-align: right;\n",
       "    }\n",
       "</style>\n",
       "<table border=\"1\" class=\"dataframe\">\n",
       "  <thead>\n",
       "    <tr style=\"text-align: right;\">\n",
       "      <th></th>\n",
       "      <th>H(Rs)</th>\n",
       "      <th>PA(deg)</th>\n",
       "      <th>Xpix</th>\n",
       "      <th>Ypix</th>\n",
       "      <th>X\"</th>\n",
       "      <th>Y\"</th>\n",
       "    </tr>\n",
       "    <tr>\n",
       "      <th>datetime</th>\n",
       "      <th></th>\n",
       "      <th></th>\n",
       "      <th></th>\n",
       "      <th></th>\n",
       "      <th></th>\n",
       "      <th></th>\n",
       "    </tr>\n",
       "  </thead>\n",
       "  <tbody>\n",
       "    <tr>\n",
       "      <th>2012-12-14 02:24:06.881</th>\n",
       "      <td>3.33</td>\n",
       "      <td>254.36</td>\n",
       "      <td>388</td>\n",
       "      <td>230</td>\n",
       "      <td>3163.02</td>\n",
       "      <td>-885.36</td>\n",
       "    </tr>\n",
       "    <tr>\n",
       "      <th>2012-12-14 02:48:03.965</th>\n",
       "      <td>4.10</td>\n",
       "      <td>256.63</td>\n",
       "      <td>420</td>\n",
       "      <td>228</td>\n",
       "      <td>3924.62</td>\n",
       "      <td>-932.96</td>\n",
       "    </tr>\n",
       "    <tr>\n",
       "      <th>2012-12-14 04:12:53.108</th>\n",
       "      <td>9.29</td>\n",
       "      <td>248.30</td>\n",
       "      <td>331</td>\n",
       "      <td>237</td>\n",
       "      <td>8500.80</td>\n",
       "      <td>-3382.40</td>\n",
       "    </tr>\n",
       "    <tr>\n",
       "      <th>2012-12-14 09:17:15.702</th>\n",
       "      <td>24.77</td>\n",
       "      <td>262.30</td>\n",
       "      <td>471</td>\n",
       "      <td>238</td>\n",
       "      <td>24180.80</td>\n",
       "      <td>-3270.40</td>\n",
       "    </tr>\n",
       "  </tbody>\n",
       "</table>\n",
       "</div>"
      ],
      "text/plain": [
       "                         H(Rs)  PA(deg)  Xpix  Ypix        X\"       Y\"\n",
       "datetime                                                              \n",
       "2012-12-14 02:24:06.881   3.33   254.36   388   230   3163.02  -885.36\n",
       "2012-12-14 02:48:03.965   4.10   256.63   420   228   3924.62  -932.96\n",
       "2012-12-14 04:12:53.108   9.29   248.30   331   237   8500.80 -3382.40\n",
       "2012-12-14 09:17:15.702  24.77   262.30   471   238  24180.80 -3270.40"
      ]
     },
     "execution_count": 30,
     "metadata": {},
     "output_type": "execute_result"
    }
   ],
   "source": [
    "df"
   ]
  },
  {
   "cell_type": "code",
   "execution_count": null,
   "id": "2f5f8f7d",
   "metadata": {},
   "outputs": [],
   "source": []
  }
 ],
 "metadata": {
  "kernelspec": {
   "display_name": "Python 3 (ipykernel)",
   "language": "python",
   "name": "python3"
  },
  "language_info": {
   "codemirror_mode": {
    "name": "ipython",
    "version": 3
   },
   "file_extension": ".py",
   "mimetype": "text/x-python",
   "name": "python",
   "nbconvert_exporter": "python",
   "pygments_lexer": "ipython3",
   "version": "3.11.4"
  },
  "varInspector": {
   "cols": {
    "lenName": 16,
    "lenType": 16,
    "lenVar": 40
   },
   "kernels_config": {
    "python": {
     "delete_cmd_postfix": "",
     "delete_cmd_prefix": "del ",
     "library": "var_list.py",
     "varRefreshCmd": "print(var_dic_list())"
    },
    "r": {
     "delete_cmd_postfix": ") ",
     "delete_cmd_prefix": "rm(",
     "library": "var_list.r",
     "varRefreshCmd": "cat(var_dic_list()) "
    }
   },
   "types_to_exclude": [
    "module",
    "function",
    "builtin_function_or_method",
    "instance",
    "_Feature"
   ],
   "window_display": false
  }
 },
 "nbformat": 4,
 "nbformat_minor": 5
}
